{
 "cells": [
  {
   "cell_type": "code",
   "execution_count": 1,
   "metadata": {},
   "outputs": [],
   "source": [
    "import math\n",
    "import collections\n",
    "import urllib\n",
    "\n",
    "import numpy as np\n",
    "import pandas as pd\n",
    "import matplotlib.pyplot as pp\n",
    "\n",
    "%matplotlib inline"
   ]
  },
  {
   "cell_type": "code",
   "execution_count": 2,
   "metadata": {},
   "outputs": [],
   "source": [
    "import getweather"
   ]
  },
  {
   "cell_type": "code",
   "execution_count": 3,
   "metadata": {},
   "outputs": [],
   "source": [
    "pasadena = getweather.getyear('PASADENA', ['TMIN', 'TMAX'], 2001)"
   ]
  },
  {
   "cell_type": "code",
   "execution_count": 4,
   "metadata": {},
   "outputs": [
    {
     "data": {
      "text/plain": [
       "array([( 9.4, 25.6), ( 8.3, 26.7), ( 8.9, 25.6), ( 8.3, 26.1),\n",
       "       (10. , 23.9), (10.6, 23.3), ( 7.2, 23.3), ( 7.2, 19.4),\n",
       "       ( 7.8, 17.8), ( 6.1, 14.4), ( 5.6, 11.1), ( 6.1, 12.2),\n",
       "       ( 5. , 17.2), ( 3.9, 17.2), ( 4.4, 15. ), ( 2.8, 14.4),\n",
       "       ( 5. , 16.1), ( 3.9, 17.2), ( 5.6, 17.2), ( 7.2, 23.3),\n",
       "       ( 7.2, 23.3), ( 8.9, 19.4), ( 5.6, 17.2), ( 6.7, 15. ),\n",
       "       ( 3.3, 13.9), ( 5.6, 13.3), ( 3.3, 16.1), ( 3.3, 16.7),\n",
       "       ( 3.3, 14.4), ( 3.9, 17.8), ( 5. , 18.9), ( 5. , 21.1),\n",
       "       ( 6.1, 23.9), ( nan, 28.9), ( 7.2, 32.2), (13.9, 28.9),\n",
       "       (11.1, 25.6), ( 5.6, 15. ), ( 2.2, 15. ), ( 3.9, 13.9),\n",
       "       ( 6.1, 14.4), ( 3.3, 15.6), ( 5.6, 10.6), ( 6.1, 10.6),\n",
       "       ( 2.8, 14.4), ( 2.8, 16.7), ( 4.4, 20. ), ( 7.8, 20. ),\n",
       "       (10. , 19.4), ( 9.4, 17.2), ( 5.6, 17.2), ( 5.6, 20.6),\n",
       "       ( 7.8, 18.3), ( 5. , 14.4), ( 3.9, 12.8), ( 6.7, 12.2),\n",
       "       ( 7.2, 16.7), ( 7.8, 13.3), ( 6.7, 10.6), ( 5. , 18.9),\n",
       "       ( 5.6, 17.8), ( 8.3, 18.3), ( 9.4, 16.1), (10. , 18.3),\n",
       "       ( 9.4, 19.4), (10. , 20. ), ( 8.9, 20.6), (10.6, 18.9),\n",
       "       ( 6.1, 17.2), ( 8.9, 16.1), ( 8.3, 22.2), ( 7.2, 23.9),\n",
       "       ( 7.8, 21.7), (10. , 21.7), (10. , 20.6), ( 7.8, 25.6),\n",
       "       (10.6, 30.6), (13.3, 31.7), (14.4, 31.1), (10.6, 29.4),\n",
       "       (11.7, 20.6), (11.1, 21.1), ( 9.4, 23.3), (10. , 23.3),\n",
       "       (12.2, 23.3), (10. , 26.1), (11.1, 23.9), (12.8, 23.9),\n",
       "       (12.8, 29.4), (12.8, 25.6), (12.2, 23.9), (11.1, 20. ),\n",
       "       (10.6, 18.9), ( 8.3, 14.4), ( 8.3, 18.3), ( 6.1, 17.8),\n",
       "       ( 7.2, 16.1), ( 3.3, 18.3), (16.1, 16.7), ( 3.9, 18.9),\n",
       "       ( 8.9, 18.9), ( 7.8, 17.8), ( 6.7, 24.4), ( 7.2, 24.4),\n",
       "       ( 7.2, 25. ), ( 9.4, 26.7), ( 9.4, 28.9), (12.2, 26.7),\n",
       "       (11.1, 21.1), ( 8.9, 20. ), ( 6.1, 20.6), ( 7.2, 24.4),\n",
       "       (10. , 30. ), (10. , 33.9), (16.1, 32.2), (12.2, 31.1),\n",
       "       (12.8, 25.6), (11.7, 23.3), ( nan,  nan), (11.1, 27.8),\n",
       "       (11.7, 26.1), (12.2, 23.9), (11.1, 28.3), (10.6, 28.3),\n",
       "       (11.1, 30.6), (12.2, 32.2), (13.3, 32.8), (15.6, 35. ),\n",
       "       (16.1, 33.9), (14.4, 30.6), (13.3, 29.4), (13.9, 28.3),\n",
       "       (13.3, 25.6), (10.6, 26.1), (13.3, 27.2), (13.9, 26.7),\n",
       "       (14.4, 28.9), (15. , 25.6), ( nan,  nan), (11.1, 27.8),\n",
       "       (14.4, 26.7), (15. , 31.7), (15.6, 35. ), (15. , 33.9),\n",
       "       (15.6, 28.9), (16.7, 27.8), (14.4, 25.6), (14.4, 21.1),\n",
       "       (12.8, 28.9), (13.9, 30.6), (15. , 32.2), (16.1, 27.2),\n",
       "       (15. , 28.3), (14.4, 25. ), (13.3, 25. ), (12.8, 26.1),\n",
       "       (13.9, 30. ), (15. , 30.6), (15.6, 30.6), (15.6, 33.3),\n",
       "       (15.6, 32.2), ( nan,  nan), (14.4, 32.2), ( nan,  nan),\n",
       "       ( nan,  nan), ( nan,  nan), (13.3, 36.7), (14.4, 35.6),\n",
       "       (16.1, 33.3), (16.1, 34.4), (16.7, 34.4), (17.2, 34.4),\n",
       "       (18.9, 35. ), ( nan,  nan), (15. , 36.7), (15.6, 31.7),\n",
       "       (15.6, 30. ), (15. , 30.6), (15.6, 31.7), (16.1, 32.2),\n",
       "       (15.6, 35.6), (17.2, 35. ), (18.3, 35.6), (20. , 34.4),\n",
       "       (21.1, 36.7), (20. , 31.1), (18.9, 31.1), (17.8, 35. ),\n",
       "       (16.7, 33.9), (15. , 29.4), (13.9, 27.8), (12.8, 28.9),\n",
       "       (12.2, 31.7), (14.4, 32.2), (14.4, 35. ), (16.1, 32.2),\n",
       "       (15.6, 27.2), (13.3, 27.8), (13.3, 28.9), (13.9, 28.9),\n",
       "       (13.3, 28.9), (13.9, 32.8), (13.3, 33.9), (13.3, 29.4),\n",
       "       (14.4, 28.9), ( nan,  nan), (14.4, 31.1), (15. , 31.7),\n",
       "       (14.4, 35. ), (15. , 34.4), (15.6, 30.6), (15.6, 28.3),\n",
       "       (15. , 28.9), (15. , 30. ), (13.9, 30. ), (12.2, 34.4),\n",
       "       (14.4, 37.8), (17.8, 36.1), (19.4, 36.1), (17.8, 35.6),\n",
       "       (15. , 31.7), (15.6, 32.2), (16.7, 35. ), (16.1, 35.6),\n",
       "       (16.7, 33.3), (18.3, 36.1), (17.2, 36.1), (17.2, 35.6),\n",
       "       (17.2, 35. ), (18.3, 38.3), (18.9, 38.9), (16.7, 35.6),\n",
       "       (15.6, 30.6), (16.1, 27.2), (13.9, 29.4), (15.6, 31.7),\n",
       "       (17.8, 32.8), (18.3, 30.6), (16.7, 33.9), (16.1, 31.7),\n",
       "       (15. , 31.1), (16.7, 29.4), (15. , 30. ), (15. , 35. ),\n",
       "       (18.9, 36.1), (18.3, 30. ), (17.2, 32.2), (17.2, 31.7),\n",
       "       (17.2, 29.4), (16.1, 26.7), (15.6, 28.3), (15. , 29.4),\n",
       "       (13.3, 27.2), (15. , 27.8), (14.4, 28.9), (12.8, 32.2),\n",
       "       (13.9, 35. ), (13.9, 36.1), (13.3, 33.3), (15.6, 30.6),\n",
       "       (13.9, 28.3), (13.3, 29.4), (12.8, 28.3), (13.3, 31.7),\n",
       "       (15. , 35. ), (13.9, 34.4), (16.1, 36.7), (18.9, 36.7),\n",
       "       (17.2, 35.6), (17.2, 35. ), (15.6, 33.9), (15. , 38.9),\n",
       "       (18.9, 41.1), (18.3, 36.1), (18.9, 33.3), (15.6, 31.1),\n",
       "       (14.4, 29.4), (15.6, 27.2), ( nan,  nan), ( nan,  nan),\n",
       "       (11.7, 27.2), (14.4, 22.2), (11.7, 28.9), (11.1, 27.8),\n",
       "       (11.7, 31.1), (14.4, 35.6), (12.8, 37.2), (13.9, 32.2),\n",
       "       (15. , 31.7), (11.7, 29.4), (12.2, 28.9), (12.8, 28.3),\n",
       "       (16.1, 27.2), (12.2, 28.3), (13.3, 23.3), (11.1, 23.3),\n",
       "       (11.7, 26.7), (11.7, 27.8), (13.3, 28.9), (12.2, 30.6),\n",
       "       (13.3, 25.6), (12.2, 23.3), (12.2, 20. ), (11.7, 21.1),\n",
       "       (11.1, 22.8), (11.1, 21.1), ( 9.4, 27.2), (14.4, 26.1),\n",
       "       (12.2, 27.8), (11.7, 26.1), (12.2, 23.3), (11.7, 30. ),\n",
       "       (12.8, 29.4), (13.9, 23.9), (13.3, 24.4), ( nan,  nan),\n",
       "       ( 7.2, 18.9), ( 7.2, 22.8), (10. , 26.1), (10. , 24.4),\n",
       "       (10. , 27.2), ( 8.9, 27.2), (10. , 27.2), (10.6, 26.7),\n",
       "       (11.1, 22.2), (11.1, 20. ), (10.6, 20.6), (10. , 19.4),\n",
       "       ( nan,  nan), (11.1, 20. ), ( 5.6, 16.1), ( 3.3, 15.6),\n",
       "       ( 7.2, 15. ), ( 5.6, 16.1), ( 5. , 20. ), ( 6.1, 19.4),\n",
       "       ( 8.9, 16.1), ( 6.1, 16.7), ( 4.4, 16.7), ( 6.7, 22.2),\n",
       "       ( 7.2, 25.6), ( 7.8, 27.2), ( 5.6, 23.9), ( 4.4, 15. ),\n",
       "       ( 3.9, 16.1), ( 5.6, 16.1), ( 3.9, 16.1), ( 5.6, 15.6),\n",
       "       ( 6.1, 17.2), ( 3.9, 18.3), ( 3.9, 17.8), ( 3.9, 22.2),\n",
       "       ( 5.6, 21.1), ( 6.7, 23.9), ( 6.1, 16.1), ( 4.4, 17.2),\n",
       "       ( nan,  nan), ( 4.4, 18.3), ( 4.4, 20.6), ( 5.6, 23.3),\n",
       "       ( nan,  nan), ( 7.8, 21.7), (10. , 20.6), ( 9.4, 18.3),\n",
       "       (10.6, 18.3)], dtype=[('TMIN', '<f8'), ('TMAX', '<f8')])"
      ]
     },
     "execution_count": 4,
     "metadata": {},
     "output_type": "execute_result"
    }
   ],
   "source": [
    "pasadena"
   ]
  },
  {
   "cell_type": "code",
   "execution_count": 16,
   "metadata": {},
   "outputs": [
    {
     "data": {
      "text/plain": [
       "(365,)"
      ]
     },
     "execution_count": 16,
     "metadata": {},
     "output_type": "execute_result"
    }
   ],
   "source": [
    "pasadena.shape"
   ]
  },
  {
   "cell_type": "code",
   "execution_count": 17,
   "metadata": {},
   "outputs": [
    {
     "data": {
      "text/plain": [
       "365"
      ]
     },
     "execution_count": 17,
     "metadata": {},
     "output_type": "execute_result"
    }
   ],
   "source": [
    "pasadena.size"
   ]
  },
  {
   "cell_type": "code",
   "execution_count": 18,
   "metadata": {},
   "outputs": [
    {
     "data": {
      "text/plain": [
       "1"
      ]
     },
     "execution_count": 18,
     "metadata": {},
     "output_type": "execute_result"
    }
   ],
   "source": [
    "pasadena.ndim"
   ]
  },
  {
   "cell_type": "code",
   "execution_count": 19,
   "metadata": {},
   "outputs": [
    {
     "data": {
      "text/plain": [
       "dtype([('TMIN', '<f8'), ('TMAX', '<f8')])"
      ]
     },
     "execution_count": 19,
     "metadata": {},
     "output_type": "execute_result"
    }
   ],
   "source": [
    "pasadena.dtype"
   ]
  },
  {
   "cell_type": "code",
   "execution_count": 5,
   "metadata": {},
   "outputs": [
    {
     "data": {
      "text/plain": [
       "(nan, nan, nan)"
      ]
     },
     "execution_count": 5,
     "metadata": {},
     "output_type": "execute_result"
    }
   ],
   "source": [
    "np.mean(pasadena['TMIN']), np.min(pasadena['TMIN']), np.max(pasadena['TMIN'])"
   ]
  },
  {
   "cell_type": "code",
   "execution_count": 6,
   "metadata": {},
   "outputs": [
    {
     "data": {
      "text/plain": [
       "array([ 9.4,  8.3,  8.9,  8.3, 10. , 10.6,  7.2,  7.2,  7.8,  6.1,  5.6,\n",
       "        6.1,  5. ,  3.9,  4.4,  2.8,  5. ,  3.9,  5.6,  7.2,  7.2,  8.9,\n",
       "        5.6,  6.7,  3.3,  5.6,  3.3,  3.3,  3.3,  3.9,  5. ,  5. ,  6.1,\n",
       "        nan,  7.2, 13.9, 11.1,  5.6,  2.2,  3.9,  6.1,  3.3,  5.6,  6.1,\n",
       "        2.8,  2.8,  4.4,  7.8, 10. ,  9.4,  5.6,  5.6,  7.8,  5. ,  3.9,\n",
       "        6.7,  7.2,  7.8,  6.7,  5. ,  5.6,  8.3,  9.4, 10. ,  9.4, 10. ,\n",
       "        8.9, 10.6,  6.1,  8.9,  8.3,  7.2,  7.8, 10. , 10. ,  7.8, 10.6,\n",
       "       13.3, 14.4, 10.6, 11.7, 11.1,  9.4, 10. , 12.2, 10. , 11.1, 12.8,\n",
       "       12.8, 12.8, 12.2, 11.1, 10.6,  8.3,  8.3,  6.1,  7.2,  3.3, 16.1,\n",
       "        3.9,  8.9,  7.8,  6.7,  7.2,  7.2,  9.4,  9.4, 12.2, 11.1,  8.9,\n",
       "        6.1,  7.2, 10. , 10. , 16.1, 12.2, 12.8, 11.7,  nan, 11.1, 11.7,\n",
       "       12.2, 11.1, 10.6, 11.1, 12.2, 13.3, 15.6, 16.1, 14.4, 13.3, 13.9,\n",
       "       13.3, 10.6, 13.3, 13.9, 14.4, 15. ,  nan, 11.1, 14.4, 15. , 15.6,\n",
       "       15. , 15.6, 16.7, 14.4, 14.4, 12.8, 13.9, 15. , 16.1, 15. , 14.4,\n",
       "       13.3, 12.8, 13.9, 15. , 15.6, 15.6, 15.6,  nan, 14.4,  nan,  nan,\n",
       "        nan, 13.3, 14.4, 16.1, 16.1, 16.7, 17.2, 18.9,  nan, 15. , 15.6,\n",
       "       15.6, 15. , 15.6, 16.1, 15.6, 17.2, 18.3, 20. , 21.1, 20. , 18.9,\n",
       "       17.8, 16.7, 15. , 13.9, 12.8, 12.2, 14.4, 14.4, 16.1, 15.6, 13.3,\n",
       "       13.3, 13.9, 13.3, 13.9, 13.3, 13.3, 14.4,  nan, 14.4, 15. , 14.4,\n",
       "       15. , 15.6, 15.6, 15. , 15. , 13.9, 12.2, 14.4, 17.8, 19.4, 17.8,\n",
       "       15. , 15.6, 16.7, 16.1, 16.7, 18.3, 17.2, 17.2, 17.2, 18.3, 18.9,\n",
       "       16.7, 15.6, 16.1, 13.9, 15.6, 17.8, 18.3, 16.7, 16.1, 15. , 16.7,\n",
       "       15. , 15. , 18.9, 18.3, 17.2, 17.2, 17.2, 16.1, 15.6, 15. , 13.3,\n",
       "       15. , 14.4, 12.8, 13.9, 13.9, 13.3, 15.6, 13.9, 13.3, 12.8, 13.3,\n",
       "       15. , 13.9, 16.1, 18.9, 17.2, 17.2, 15.6, 15. , 18.9, 18.3, 18.9,\n",
       "       15.6, 14.4, 15.6,  nan,  nan, 11.7, 14.4, 11.7, 11.1, 11.7, 14.4,\n",
       "       12.8, 13.9, 15. , 11.7, 12.2, 12.8, 16.1, 12.2, 13.3, 11.1, 11.7,\n",
       "       11.7, 13.3, 12.2, 13.3, 12.2, 12.2, 11.7, 11.1, 11.1,  9.4, 14.4,\n",
       "       12.2, 11.7, 12.2, 11.7, 12.8, 13.9, 13.3,  nan,  7.2,  7.2, 10. ,\n",
       "       10. , 10. ,  8.9, 10. , 10.6, 11.1, 11.1, 10.6, 10. ,  nan, 11.1,\n",
       "        5.6,  3.3,  7.2,  5.6,  5. ,  6.1,  8.9,  6.1,  4.4,  6.7,  7.2,\n",
       "        7.8,  5.6,  4.4,  3.9,  5.6,  3.9,  5.6,  6.1,  3.9,  3.9,  3.9,\n",
       "        5.6,  6.7,  6.1,  4.4,  nan,  4.4,  4.4,  5.6,  nan,  7.8, 10. ,\n",
       "        9.4, 10.6])"
      ]
     },
     "execution_count": 6,
     "metadata": {},
     "output_type": "execute_result"
    }
   ],
   "source": [
    "pasadena['TMIN']"
   ]
  },
  {
   "cell_type": "code",
   "execution_count": 20,
   "metadata": {},
   "outputs": [
    {
     "data": {
      "text/plain": [
       "((365,), 365, 1, dtype('float64'))"
      ]
     },
     "execution_count": 20,
     "metadata": {},
     "output_type": "execute_result"
    }
   ],
   "source": [
    "pasadena['TMIN'].shape, pasadena['TMIN'].size, pasadena['TMIN'].ndim, pasadena['TMIN'].dtype"
   ]
  },
  {
   "cell_type": "code",
   "execution_count": 10,
   "metadata": {},
   "outputs": [
    {
     "data": {
      "text/plain": [
       "array([False, False, False, False, False, False, False, False, False,\n",
       "       False, False, False, False, False, False, False, False, False,\n",
       "       False, False, False, False, False, False, False, False, False,\n",
       "       False, False, False, False, False, False,  True, False, False,\n",
       "       False, False, False, False, False, False, False, False, False,\n",
       "       False, False, False, False, False, False, False, False, False,\n",
       "       False, False, False, False, False, False, False, False, False,\n",
       "       False, False, False, False, False, False, False, False, False,\n",
       "       False, False, False, False, False, False, False, False, False,\n",
       "       False, False, False, False, False, False, False, False, False,\n",
       "       False, False, False, False, False, False, False, False, False,\n",
       "       False, False, False, False, False, False, False, False, False,\n",
       "       False, False, False, False, False, False, False, False, False,\n",
       "       False,  True, False, False, False, False, False, False, False,\n",
       "       False, False, False, False, False, False, False, False, False,\n",
       "       False, False, False,  True, False, False, False, False, False,\n",
       "       False, False, False, False, False, False, False, False, False,\n",
       "       False, False, False, False, False, False, False, False,  True,\n",
       "       False,  True,  True,  True, False, False, False, False, False,\n",
       "       False, False,  True, False, False, False, False, False, False,\n",
       "       False, False, False, False, False, False, False, False, False,\n",
       "       False, False, False, False, False, False, False, False, False,\n",
       "       False, False, False, False, False, False, False,  True, False,\n",
       "       False, False, False, False, False, False, False, False, False,\n",
       "       False, False, False, False, False, False, False, False, False,\n",
       "       False, False, False, False, False, False, False, False, False,\n",
       "       False, False, False, False, False, False, False, False, False,\n",
       "       False, False, False, False, False, False, False, False, False,\n",
       "       False, False, False, False, False, False, False, False, False,\n",
       "       False, False, False, False, False, False, False, False, False,\n",
       "       False, False, False, False, False, False, False, False,  True,\n",
       "        True, False, False, False, False, False, False, False, False,\n",
       "       False, False, False, False, False, False, False, False, False,\n",
       "       False, False, False, False, False, False, False, False, False,\n",
       "       False, False, False, False, False, False, False, False, False,\n",
       "        True, False, False, False, False, False, False, False, False,\n",
       "       False, False, False, False,  True, False, False, False, False,\n",
       "       False, False, False, False, False, False, False, False, False,\n",
       "       False, False, False, False, False, False, False, False, False,\n",
       "       False, False, False, False, False,  True, False, False, False,\n",
       "        True, False, False, False, False])"
      ]
     },
     "execution_count": 10,
     "metadata": {},
     "output_type": "execute_result"
    }
   ],
   "source": [
    "np.isnan(pasadena['TMIN'])"
   ]
  },
  {
   "cell_type": "code",
   "execution_count": 11,
   "metadata": {},
   "outputs": [
    {
     "data": {
      "text/plain": [
       "15"
      ]
     },
     "execution_count": 11,
     "metadata": {},
     "output_type": "execute_result"
    }
   ],
   "source": [
    "np.sum(np.isnan(pasadena['TMIN']))"
   ]
  },
  {
   "cell_type": "code",
   "execution_count": 21,
   "metadata": {},
   "outputs": [
    {
     "data": {
      "text/plain": [
       "(2.2, 41.1)"
      ]
     },
     "execution_count": 21,
     "metadata": {},
     "output_type": "execute_result"
    }
   ],
   "source": [
    "np.nanmin(pasadena['TMIN']), np.nanmax(pasadena['TMAX']) #ignore nan values"
   ]
  },
  {
   "cell_type": "code",
   "execution_count": 22,
   "metadata": {},
   "outputs": [],
   "source": [
    "# set nan to the average of non-nan\n",
    "pasadena['TMIN'][np.isnan(pasadena['TMIN'])] = np.nanmean(pasadena['TMIN'])\n",
    "pasadena['TMAX'][np.isnan(pasadena['TMAX'])] = np.nanmean(pasadena['TMAX'])"
   ]
  },
  {
   "cell_type": "code",
   "execution_count": 24,
   "metadata": {},
   "outputs": [
    {
     "data": {
      "text/plain": [
       "array([ 9.4       ,  8.3       ,  8.9       ,  8.3       , 10.        ,\n",
       "       10.6       ,  7.2       ,  7.2       ,  7.8       ,  6.1       ,\n",
       "        5.6       ,  6.1       ,  5.        ,  3.9       ,  4.4       ,\n",
       "        2.8       ,  5.        ,  3.9       ,  5.6       ,  7.2       ,\n",
       "        7.2       ,  8.9       ,  5.6       ,  6.7       ,  3.3       ,\n",
       "        5.6       ,  3.3       ,  3.3       ,  3.3       ,  3.9       ,\n",
       "        5.        ,  5.        ,  6.1       , 11.45314286,  7.2       ,\n",
       "       13.9       , 11.1       ,  5.6       ,  2.2       ,  3.9       ,\n",
       "        6.1       ,  3.3       ,  5.6       ,  6.1       ,  2.8       ,\n",
       "        2.8       ,  4.4       ,  7.8       , 10.        ,  9.4       ,\n",
       "        5.6       ,  5.6       ,  7.8       ,  5.        ,  3.9       ,\n",
       "        6.7       ,  7.2       ,  7.8       ,  6.7       ,  5.        ,\n",
       "        5.6       ,  8.3       ,  9.4       , 10.        ,  9.4       ,\n",
       "       10.        ,  8.9       , 10.6       ,  6.1       ,  8.9       ,\n",
       "        8.3       ,  7.2       ,  7.8       , 10.        , 10.        ,\n",
       "        7.8       , 10.6       , 13.3       , 14.4       , 10.6       ,\n",
       "       11.7       , 11.1       ,  9.4       , 10.        , 12.2       ,\n",
       "       10.        , 11.1       , 12.8       , 12.8       , 12.8       ,\n",
       "       12.2       , 11.1       , 10.6       ,  8.3       ,  8.3       ,\n",
       "        6.1       ,  7.2       ,  3.3       , 16.1       ,  3.9       ,\n",
       "        8.9       ,  7.8       ,  6.7       ,  7.2       ,  7.2       ,\n",
       "        9.4       ,  9.4       , 12.2       , 11.1       ,  8.9       ,\n",
       "        6.1       ,  7.2       , 10.        , 10.        , 16.1       ,\n",
       "       12.2       , 12.8       , 11.7       , 11.45314286, 11.1       ,\n",
       "       11.7       , 12.2       , 11.1       , 10.6       , 11.1       ,\n",
       "       12.2       , 13.3       , 15.6       , 16.1       , 14.4       ,\n",
       "       13.3       , 13.9       , 13.3       , 10.6       , 13.3       ,\n",
       "       13.9       , 14.4       , 15.        , 11.45314286, 11.1       ,\n",
       "       14.4       , 15.        , 15.6       , 15.        , 15.6       ,\n",
       "       16.7       , 14.4       , 14.4       , 12.8       , 13.9       ,\n",
       "       15.        , 16.1       , 15.        , 14.4       , 13.3       ,\n",
       "       12.8       , 13.9       , 15.        , 15.6       , 15.6       ,\n",
       "       15.6       , 11.45314286, 14.4       , 11.45314286, 11.45314286,\n",
       "       11.45314286, 13.3       , 14.4       , 16.1       , 16.1       ,\n",
       "       16.7       , 17.2       , 18.9       , 11.45314286, 15.        ,\n",
       "       15.6       , 15.6       , 15.        , 15.6       , 16.1       ,\n",
       "       15.6       , 17.2       , 18.3       , 20.        , 21.1       ,\n",
       "       20.        , 18.9       , 17.8       , 16.7       , 15.        ,\n",
       "       13.9       , 12.8       , 12.2       , 14.4       , 14.4       ,\n",
       "       16.1       , 15.6       , 13.3       , 13.3       , 13.9       ,\n",
       "       13.3       , 13.9       , 13.3       , 13.3       , 14.4       ,\n",
       "       11.45314286, 14.4       , 15.        , 14.4       , 15.        ,\n",
       "       15.6       , 15.6       , 15.        , 15.        , 13.9       ,\n",
       "       12.2       , 14.4       , 17.8       , 19.4       , 17.8       ,\n",
       "       15.        , 15.6       , 16.7       , 16.1       , 16.7       ,\n",
       "       18.3       , 17.2       , 17.2       , 17.2       , 18.3       ,\n",
       "       18.9       , 16.7       , 15.6       , 16.1       , 13.9       ,\n",
       "       15.6       , 17.8       , 18.3       , 16.7       , 16.1       ,\n",
       "       15.        , 16.7       , 15.        , 15.        , 18.9       ,\n",
       "       18.3       , 17.2       , 17.2       , 17.2       , 16.1       ,\n",
       "       15.6       , 15.        , 13.3       , 15.        , 14.4       ,\n",
       "       12.8       , 13.9       , 13.9       , 13.3       , 15.6       ,\n",
       "       13.9       , 13.3       , 12.8       , 13.3       , 15.        ,\n",
       "       13.9       , 16.1       , 18.9       , 17.2       , 17.2       ,\n",
       "       15.6       , 15.        , 18.9       , 18.3       , 18.9       ,\n",
       "       15.6       , 14.4       , 15.6       , 11.45314286, 11.45314286,\n",
       "       11.7       , 14.4       , 11.7       , 11.1       , 11.7       ,\n",
       "       14.4       , 12.8       , 13.9       , 15.        , 11.7       ,\n",
       "       12.2       , 12.8       , 16.1       , 12.2       , 13.3       ,\n",
       "       11.1       , 11.7       , 11.7       , 13.3       , 12.2       ,\n",
       "       13.3       , 12.2       , 12.2       , 11.7       , 11.1       ,\n",
       "       11.1       ,  9.4       , 14.4       , 12.2       , 11.7       ,\n",
       "       12.2       , 11.7       , 12.8       , 13.9       , 13.3       ,\n",
       "       11.45314286,  7.2       ,  7.2       , 10.        , 10.        ,\n",
       "       10.        ,  8.9       , 10.        , 10.6       , 11.1       ,\n",
       "       11.1       , 10.6       , 10.        , 11.45314286, 11.1       ,\n",
       "        5.6       ,  3.3       ,  7.2       ,  5.6       ,  5.        ,\n",
       "        6.1       ,  8.9       ,  6.1       ,  4.4       ,  6.7       ,\n",
       "        7.2       ,  7.8       ,  5.6       ,  4.4       ,  3.9       ,\n",
       "        5.6       ,  3.9       ,  5.6       ,  6.1       ,  3.9       ,\n",
       "        3.9       ,  3.9       ,  5.6       ,  6.7       ,  6.1       ,\n",
       "        4.4       , 11.45314286,  4.4       ,  4.4       ,  5.6       ,\n",
       "       11.45314286,  7.8       , 10.        ,  9.4       , 10.6       ])"
      ]
     },
     "execution_count": 24,
     "metadata": {},
     "output_type": "execute_result"
    }
   ],
   "source": [
    "pasadena['TMIN']"
   ]
  },
  {
   "cell_type": "code",
   "execution_count": 30,
   "metadata": {},
   "outputs": [
    {
     "data": {
      "text/plain": [
       "[<matplotlib.lines.Line2D at 0x120eb86d0>]"
      ]
     },
     "execution_count": 30,
     "metadata": {},
     "output_type": "execute_result"
    },
    {
     "data": {
      "image/png": "[encoded data removed]",
      "text/plain": [
       "<Figure size 432x288 with 1 Axes>"
      ]
     },
     "metadata": {
      "needs_background": "light"
     },
     "output_type": "display_data"
    }
   ],
   "source": [
    "pp.plot(pasadena['TMIN'])\n",
    "pp.plot(pasadena['TMAX'])"
   ]
  },
  {
   "cell_type": "code",
   "execution_count": 32,
   "metadata": {},
   "outputs": [
    {
     "data": {
      "text/plain": [
       "[<matplotlib.lines.Line2D at 0x1203c7410>]"
      ]
     },
     "execution_count": 32,
     "metadata": {},
     "output_type": "execute_result"
    },
    {
     "data": {
      "image/png": "[encoded data removed]",
      "text/plain": [
       "<Figure size 432x288 with 1 Axes>"
      ]
     },
     "metadata": {
      "needs_background": "light"
     },
     "output_type": "display_data"
    }
   ],
   "source": [
    "xdata = np.array([0,1,4,5,7,8], 'd')\n",
    "ydata = np.array([10,5,2,7,7.5,10], 'd')\n",
    "\n",
    "pp.plot(xdata, ydata, '--o')"
   ]
  },
  {
   "cell_type": "code",
   "execution_count": 33,
   "metadata": {},
   "outputs": [
    {
     "data": {
      "text/plain": [
       "[<matplotlib.lines.Line2D at 0x120372610>]"
      ]
     },
     "execution_count": 33,
     "metadata": {},
     "output_type": "execute_result"
    },
    {
     "data": {
      "image/png": "[encoded data removed]",
      "text/plain": [
       "<Figure size 432x288 with 1 Axes>"
      ]
     },
     "metadata": {
      "needs_background": "light"
     },
     "output_type": "display_data"
    }
   ],
   "source": [
    "# interpolate x/y data with missing values to continuous x values\n",
    "\n",
    "xnew = np.linspace(0, 8, 9)\n",
    "ynew = np.interp(xnew, xdata, ydata)\n",
    "\n",
    "pp.plot(xdata, ydata, '--o', ms=10)\n",
    "pp.plot(xnew, ynew, 's')"
   ]
  },
  {
   "cell_type": "code",
   "execution_count": 34,
   "metadata": {},
   "outputs": [
    {
     "data": {
      "text/plain": [
       "[<matplotlib.lines.Line2D at 0x120687c50>]"
      ]
     },
     "execution_count": 34,
     "metadata": {},
     "output_type": "execute_result"
    },
    {
     "data": {
      "image/png": "[encoded data removed]",
      "text/plain": [
       "<Figure size 432x288 with 1 Axes>"
      ]
     },
     "metadata": {
      "needs_background": "light"
     },
     "output_type": "display_data"
    }
   ],
   "source": [
    "# interpolate x/y data with missing values to denser, continuous x values\n",
    "\n",
    "xnew = np.linspace(0, 8, 30)\n",
    "ynew = np.interp(xnew, xdata, ydata)\n",
    "\n",
    "pp.plot(xdata, ydata, '--o', ms=10)\n",
    "pp.plot(xnew, ynew, 's')"
   ]
  },
  {
   "cell_type": "code",
   "execution_count": 35,
   "metadata": {},
   "outputs": [],
   "source": [
    "pasadena = getweather.getyear('PASADENA', ['TMIN', 'TMAX'], 2001)"
   ]
  },
  {
   "cell_type": "code",
   "execution_count": 36,
   "metadata": {},
   "outputs": [],
   "source": [
    "good = ~np.isnan(pasadena['TMIN'])"
   ]
  },
  {
   "cell_type": "code",
   "execution_count": 37,
   "metadata": {},
   "outputs": [
    {
     "data": {
      "text/plain": [
       "array([ True,  True,  True,  True,  True,  True,  True,  True,  True,\n",
       "        True,  True,  True,  True,  True,  True,  True,  True,  True,\n",
       "        True,  True,  True,  True,  True,  True,  True,  True,  True,\n",
       "        True,  True,  True,  True,  True,  True, False,  True,  True,\n",
       "        True,  True,  True,  True,  True,  True,  True,  True,  True,\n",
       "        True,  True,  True,  True,  True,  True,  True,  True,  True,\n",
       "        True,  True,  True,  True,  True,  True,  True,  True,  True,\n",
       "        True,  True,  True,  True,  True,  True,  True,  True,  True,\n",
       "        True,  True,  True,  True,  True,  True,  True,  True,  True,\n",
       "        True,  True,  True,  True,  True,  True,  True,  True,  True,\n",
       "        True,  True,  True,  True,  True,  True,  True,  True,  True,\n",
       "        True,  True,  True,  True,  True,  True,  True,  True,  True,\n",
       "        True,  True,  True,  True,  True,  True,  True,  True,  True,\n",
       "        True, False,  True,  True,  True,  True,  True,  True,  True,\n",
       "        True,  True,  True,  True,  True,  True,  True,  True,  True,\n",
       "        True,  True,  True, False,  True,  True,  True,  True,  True,\n",
       "        True,  True,  True,  True,  True,  True,  True,  True,  True,\n",
       "        True,  True,  True,  True,  True,  True,  True,  True, False,\n",
       "        True, False, False, False,  True,  True,  True,  True,  True,\n",
       "        True,  True, False,  True,  True,  True,  True,  True,  True,\n",
       "        True,  True,  True,  True,  True,  True,  True,  True,  True,\n",
       "        True,  True,  True,  True,  True,  True,  True,  True,  True,\n",
       "        True,  True,  True,  True,  True,  True,  True, False,  True,\n",
       "        True,  True,  True,  True,  True,  True,  True,  True,  True,\n",
       "        True,  True,  True,  True,  True,  True,  True,  True,  True,\n",
       "        True,  True,  True,  True,  True,  True,  True,  True,  True,\n",
       "        True,  True,  True,  True,  True,  True,  True,  True,  True,\n",
       "        True,  True,  True,  True,  True,  True,  True,  True,  True,\n",
       "        True,  True,  True,  True,  True,  True,  True,  True,  True,\n",
       "        True,  True,  True,  True,  True,  True,  True,  True,  True,\n",
       "        True,  True,  True,  True,  True,  True,  True,  True, False,\n",
       "       False,  True,  True,  True,  True,  True,  True,  True,  True,\n",
       "        True,  True,  True,  True,  True,  True,  True,  True,  True,\n",
       "        True,  True,  True,  True,  True,  True,  True,  True,  True,\n",
       "        True,  True,  True,  True,  True,  True,  True,  True,  True,\n",
       "       False,  True,  True,  True,  True,  True,  True,  True,  True,\n",
       "        True,  True,  True,  True, False,  True,  True,  True,  True,\n",
       "        True,  True,  True,  True,  True,  True,  True,  True,  True,\n",
       "        True,  True,  True,  True,  True,  True,  True,  True,  True,\n",
       "        True,  True,  True,  True,  True, False,  True,  True,  True,\n",
       "       False,  True,  True,  True,  True])"
      ]
     },
     "execution_count": 37,
     "metadata": {},
     "output_type": "execute_result"
    }
   ],
   "source": [
    "good"
   ]
  },
  {
   "cell_type": "code",
   "execution_count": 38,
   "metadata": {},
   "outputs": [
    {
     "data": {
      "text/plain": [
       "array([ 9.4  ,  8.3  ,  8.9  ,  8.3  , 10.   , 10.6  ,  7.2  ,  7.2  ,\n",
       "        7.8  ,  6.1  ,  5.6  ,  6.1  ,  5.   ,  3.9  ,  4.4  ,  2.8  ,\n",
       "        5.   ,  3.9  ,  5.6  ,  7.2  ,  7.2  ,  8.9  ,  5.6  ,  6.7  ,\n",
       "        3.3  ,  5.6  ,  3.3  ,  3.3  ,  3.3  ,  3.9  ,  5.   ,  5.   ,\n",
       "        6.1  ,  6.65 ,  7.2  , 13.9  , 11.1  ,  5.6  ,  2.2  ,  3.9  ,\n",
       "        6.1  ,  3.3  ,  5.6  ,  6.1  ,  2.8  ,  2.8  ,  4.4  ,  7.8  ,\n",
       "       10.   ,  9.4  ,  5.6  ,  5.6  ,  7.8  ,  5.   ,  3.9  ,  6.7  ,\n",
       "        7.2  ,  7.8  ,  6.7  ,  5.   ,  5.6  ,  8.3  ,  9.4  , 10.   ,\n",
       "        9.4  , 10.   ,  8.9  , 10.6  ,  6.1  ,  8.9  ,  8.3  ,  7.2  ,\n",
       "        7.8  , 10.   , 10.   ,  7.8  , 10.6  , 13.3  , 14.4  , 10.6  ,\n",
       "       11.7  , 11.1  ,  9.4  , 10.   , 12.2  , 10.   , 11.1  , 12.8  ,\n",
       "       12.8  , 12.8  , 12.2  , 11.1  , 10.6  ,  8.3  ,  8.3  ,  6.1  ,\n",
       "        7.2  ,  3.3  , 16.1  ,  3.9  ,  8.9  ,  7.8  ,  6.7  ,  7.2  ,\n",
       "        7.2  ,  9.4  ,  9.4  , 12.2  , 11.1  ,  8.9  ,  6.1  ,  7.2  ,\n",
       "       10.   , 10.   , 16.1  , 12.2  , 12.8  , 11.7  , 11.4  , 11.1  ,\n",
       "       11.7  , 12.2  , 11.1  , 10.6  , 11.1  , 12.2  , 13.3  , 15.6  ,\n",
       "       16.1  , 14.4  , 13.3  , 13.9  , 13.3  , 10.6  , 13.3  , 13.9  ,\n",
       "       14.4  , 15.   , 13.05 , 11.1  , 14.4  , 15.   , 15.6  , 15.   ,\n",
       "       15.6  , 16.7  , 14.4  , 14.4  , 12.8  , 13.9  , 15.   , 16.1  ,\n",
       "       15.   , 14.4  , 13.3  , 12.8  , 13.9  , 15.   , 15.6  , 15.6  ,\n",
       "       15.6  , 15.   , 14.4  , 14.125, 13.85 , 13.575, 13.3  , 14.4  ,\n",
       "       16.1  , 16.1  , 16.7  , 17.2  , 18.9  , 16.95 , 15.   , 15.6  ,\n",
       "       15.6  , 15.   , 15.6  , 16.1  , 15.6  , 17.2  , 18.3  , 20.   ,\n",
       "       21.1  , 20.   , 18.9  , 17.8  , 16.7  , 15.   , 13.9  , 12.8  ,\n",
       "       12.2  , 14.4  , 14.4  , 16.1  , 15.6  , 13.3  , 13.3  , 13.9  ,\n",
       "       13.3  , 13.9  , 13.3  , 13.3  , 14.4  , 14.4  , 14.4  , 15.   ,\n",
       "       14.4  , 15.   , 15.6  , 15.6  , 15.   , 15.   , 13.9  , 12.2  ,\n",
       "       14.4  , 17.8  , 19.4  , 17.8  , 15.   , 15.6  , 16.7  , 16.1  ,\n",
       "       16.7  , 18.3  , 17.2  , 17.2  , 17.2  , 18.3  , 18.9  , 16.7  ,\n",
       "       15.6  , 16.1  , 13.9  , 15.6  , 17.8  , 18.3  , 16.7  , 16.1  ,\n",
       "       15.   , 16.7  , 15.   , 15.   , 18.9  , 18.3  , 17.2  , 17.2  ,\n",
       "       17.2  , 16.1  , 15.6  , 15.   , 13.3  , 15.   , 14.4  , 12.8  ,\n",
       "       13.9  , 13.9  , 13.3  , 15.6  , 13.9  , 13.3  , 12.8  , 13.3  ,\n",
       "       15.   , 13.9  , 16.1  , 18.9  , 17.2  , 17.2  , 15.6  , 15.   ,\n",
       "       18.9  , 18.3  , 18.9  , 15.6  , 14.4  , 15.6  , 14.3  , 13.   ,\n",
       "       11.7  , 14.4  , 11.7  , 11.1  , 11.7  , 14.4  , 12.8  , 13.9  ,\n",
       "       15.   , 11.7  , 12.2  , 12.8  , 16.1  , 12.2  , 13.3  , 11.1  ,\n",
       "       11.7  , 11.7  , 13.3  , 12.2  , 13.3  , 12.2  , 12.2  , 11.7  ,\n",
       "       11.1  , 11.1  ,  9.4  , 14.4  , 12.2  , 11.7  , 12.2  , 11.7  ,\n",
       "       12.8  , 13.9  , 13.3  , 10.25 ,  7.2  ,  7.2  , 10.   , 10.   ,\n",
       "       10.   ,  8.9  , 10.   , 10.6  , 11.1  , 11.1  , 10.6  , 10.   ,\n",
       "       10.55 , 11.1  ,  5.6  ,  3.3  ,  7.2  ,  5.6  ,  5.   ,  6.1  ,\n",
       "        8.9  ,  6.1  ,  4.4  ,  6.7  ,  7.2  ,  7.8  ,  5.6  ,  4.4  ,\n",
       "        3.9  ,  5.6  ,  3.9  ,  5.6  ,  6.1  ,  3.9  ,  3.9  ,  3.9  ,\n",
       "        5.6  ,  6.7  ,  6.1  ,  4.4  ,  4.4  ,  4.4  ,  4.4  ,  5.6  ,\n",
       "        6.7  ,  7.8  , 10.   ,  9.4  , 10.6  ])"
      ]
     },
     "execution_count": 38,
     "metadata": {},
     "output_type": "execute_result"
    }
   ],
   "source": [
    "# build a Boolean mask of \"good\" (non-NaN) TMIN values;\n",
    "# interpolate \"good\" days/TMIN to full range of days \n",
    "\n",
    "good = ~np.isnan(pasadena['TMIN'])\n",
    "x = np.arange(0, 365)\n",
    "\n",
    "np.interp(x, x[good], pasadena['TMIN'][good])"
   ]
  },
  {
   "cell_type": "code",
   "execution_count": 39,
   "metadata": {},
   "outputs": [],
   "source": [
    "# fill NaNs in any array by interpolation\n",
    "\n",
    "def fillnans(array):\n",
    "    good = ~np.isnan(array)\n",
    "    x = np.arange(len(array))\n",
    "\n",
    "    return np.interp(x, x[good], array[good])"
   ]
  },
  {
   "cell_type": "code",
   "execution_count": 40,
   "metadata": {},
   "outputs": [
    {
     "data": {
      "text/plain": [
       "[<matplotlib.lines.Line2D at 0x120835350>]"
      ]
     },
     "execution_count": 40,
     "metadata": {},
     "output_type": "execute_result"
    },
    {
     "data": {
      "image/png": "[encoded data removed]",
      "text/plain": [
       "<Figure size 432x288 with 1 Axes>"
      ]
     },
     "metadata": {
      "needs_background": "light"
     },
     "output_type": "display_data"
    }
   ],
   "source": [
    "pp.plot(fillnans(pasadena['TMIN']))\n",
    "pp.plot(fillnans(pasadena['TMAX']))"
   ]
  }
 ],
 "metadata": {
  "kernelspec": {
   "display_name": "Python 3",
   "language": "python",
   "name": "python3"
  },
  "language_info": {
   "codemirror_mode": {
    "name": "ipython",
    "version": 3
   },
   "file_extension": ".py",
   "mimetype": "text/x-python",
   "name": "python",
   "nbconvert_exporter": "python",
   "pygments_lexer": "ipython3",
   "version": "3.7.6"
  }
 },
 "nbformat": 4,
 "nbformat_minor": 4
}
