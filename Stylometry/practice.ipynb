{
 "cells": [
  {
   "cell_type": "code",
   "execution_count": 6,
   "id": "84309cea",
   "metadata": {},
   "outputs": [],
   "source": [
    "from faststylometry import Corpus\n",
    "from faststylometry import load_corpus_from_folder\n",
    "from faststylometry import tokenise_remove_pronouns_en\n",
    "from faststylometry import calculate_burrows_delta\n",
    "from faststylometry import predict_proba, calibrate"
   ]
  },
  {
   "cell_type": "code",
   "execution_count": 7,
   "id": "03bc7ee0",
   "metadata": {},
   "outputs": [
    {
     "name": "stderr",
     "output_type": "stream",
     "text": [
      "[nltk_data] Downloading package punkt to /Users/liheng/nltk_data...\n",
      "[nltk_data]   Package punkt is already up-to-date!\n"
     ]
    },
    {
     "data": {
      "text/plain": [
       "True"
      ]
     },
     "execution_count": 7,
     "metadata": {},
     "output_type": "execute_result"
    }
   ],
   "source": [
    "import nltk\n",
    "nltk.download(\"punkt\")"
   ]
  },
  {
   "cell_type": "code",
   "execution_count": 8,
   "id": "c9ca3116",
   "metadata": {},
   "outputs": [],
   "source": [
    "train_corpus = load_corpus_from_folder(\"train\")"
   ]
  },
  {
   "cell_type": "code",
   "execution_count": 9,
   "id": "61bd2140",
   "metadata": {},
   "outputs": [],
   "source": [
    "train_corpus.tokenise(tokenise_remove_pronouns_en)"
   ]
  },
  {
   "cell_type": "code",
   "execution_count": 10,
   "id": "2d641976",
   "metadata": {},
   "outputs": [],
   "source": [
    "test_corpus = load_corpus_from_folder(\"test\", pattern=None)"
   ]
  },
  {
   "cell_type": "code",
   "execution_count": 11,
   "id": "fde4d10a",
   "metadata": {},
   "outputs": [],
   "source": [
    "test_corpus.tokenise(tokenise_remove_pronouns_en)"
   ]
  },
  {
   "cell_type": "code",
   "execution_count": 12,
   "id": "b9f3fb65",
   "metadata": {
    "scrolled": true
   },
   "outputs": [
    {
     "data": {
      "text/html": [
       "<div>\n",
       "<style scoped>\n",
       "    .dataframe tbody tr th:only-of-type {\n",
       "        vertical-align: middle;\n",
       "    }\n",
       "\n",
       "    .dataframe tbody tr th {\n",
       "        vertical-align: top;\n",
       "    }\n",
       "\n",
       "    .dataframe thead th {\n",
       "        text-align: right;\n",
       "    }\n",
       "</style>\n",
       "<table border=\"1\" class=\"dataframe\">\n",
       "  <thead>\n",
       "    <tr style=\"text-align: right;\">\n",
       "      <th></th>\n",
       "      <th>currerbell - villette</th>\n",
       "      <th>janedoe - sense_and_sensibility</th>\n",
       "    </tr>\n",
       "    <tr>\n",
       "      <th>author</th>\n",
       "      <th></th>\n",
       "      <th></th>\n",
       "    </tr>\n",
       "  </thead>\n",
       "  <tbody>\n",
       "    <tr>\n",
       "      <th>austen</th>\n",
       "      <td>0.997937</td>\n",
       "      <td>0.444554</td>\n",
       "    </tr>\n",
       "    <tr>\n",
       "      <th>bronte</th>\n",
       "      <td>0.521349</td>\n",
       "      <td>0.933139</td>\n",
       "    </tr>\n",
       "    <tr>\n",
       "      <th>carroll</th>\n",
       "      <td>1.116454</td>\n",
       "      <td>1.433227</td>\n",
       "    </tr>\n",
       "    <tr>\n",
       "      <th>conan_doyle</th>\n",
       "      <td>0.867015</td>\n",
       "      <td>1.094739</td>\n",
       "    </tr>\n",
       "    <tr>\n",
       "      <th>dickens</th>\n",
       "      <td>0.800229</td>\n",
       "      <td>1.050525</td>\n",
       "    </tr>\n",
       "    <tr>\n",
       "      <th>swift</th>\n",
       "      <td>1.480857</td>\n",
       "      <td>1.565479</td>\n",
       "    </tr>\n",
       "  </tbody>\n",
       "</table>\n",
       "</div>"
      ],
      "text/plain": [
       "             currerbell - villette  janedoe - sense_and_sensibility\n",
       "author                                                             \n",
       "austen                    0.997937                         0.444554\n",
       "bronte                    0.521349                         0.933139\n",
       "carroll                   1.116454                         1.433227\n",
       "conan_doyle               0.867015                         1.094739\n",
       "dickens                   0.800229                         1.050525\n",
       "swift                     1.480857                         1.565479"
      ]
     },
     "execution_count": 12,
     "metadata": {},
     "output_type": "execute_result"
    }
   ],
   "source": [
    "calculate_burrows_delta(train_corpus, test_corpus, vocab_size = 50)"
   ]
  }
 ],
 "metadata": {
  "kernelspec": {
   "display_name": "Python 3 (ipykernel)",
   "language": "python",
   "name": "python3"
  },
  "language_info": {
   "codemirror_mode": {
    "name": "ipython",
    "version": 3
   },
   "file_extension": ".py",
   "mimetype": "text/x-python",
   "name": "python",
   "nbconvert_exporter": "python",
   "pygments_lexer": "ipython3",
   "version": "3.10.2"
  }
 },
 "nbformat": 4,
 "nbformat_minor": 5
}
